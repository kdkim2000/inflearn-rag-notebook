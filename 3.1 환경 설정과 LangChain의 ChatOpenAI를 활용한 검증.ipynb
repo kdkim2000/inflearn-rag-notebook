{
 "cells": [
  {
   "cell_type": "markdown",
   "metadata": {},
   "source": [
    "# 1. 패키지 설치"
   ]
  },
  {
   "cell_type": "code",
   "execution_count": 1,
   "metadata": {},
   "outputs": [
    {
     "name": "stdout",
     "output_type": "stream",
     "text": [
      "Note: you may need to restart the kernel to use updated packages.\n"
     ]
    }
   ],
   "source": [
    "%pip install -q python-dotenv langchain-openai"
   ]
  },
  {
   "cell_type": "markdown",
   "metadata": {},
   "source": [
    "# 2. 환경변수 불러오기\n",
    "\n",
    "- `.env` 파일에 `OPENAI_API_KEY` 등록"
   ]
  },
  {
   "cell_type": "code",
   "execution_count": 2,
   "metadata": {},
   "outputs": [
    {
     "data": {
      "text/plain": [
       "True"
      ]
     },
     "execution_count": 2,
     "metadata": {},
     "output_type": "execute_result"
    }
   ],
   "source": [
    "from dotenv import load_dotenv\n",
    "\n",
    "load_dotenv()"
   ]
  },
  {
   "cell_type": "markdown",
   "metadata": {},
   "source": [
    "# 3. LLM 답변 생성\n",
    "\n",
    "- OpenAI 대시보드에서 발급받은 API Key를 `OPENAI_API_KEY`라고 저장하면 별도의 설정 없이 `ChatOpenAI`를 사용할 수 있음"
   ]
  },
  {
   "cell_type": "code",
   "execution_count": 3,
   "metadata": {},
   "outputs": [],
   "source": [
    "from langchain_openai import ChatOpenAI\n",
    "\n",
    "llm = ChatOpenAI(model_name='gpt-4o-mini')"
   ]
  },
  {
   "cell_type": "code",
   "execution_count": 4,
   "metadata": {},
   "outputs": [],
   "source": [
    "ai_message = llm.invoke(\"인프런에 어떤 강의가 있나요?\")"
   ]
  },
  {
   "cell_type": "code",
   "execution_count": 5,
   "metadata": {},
   "outputs": [
    {
     "data": {
      "text/plain": [
       "'인프런은 다양한 분야의 온라인 강의를 제공하는 플랫폼입니다. 프로그래밍, 데이터 과학, 웹 개발, 모바일 앱 개발, 디자인, 마케팅 등 여러 주제에 대한 강의가 있습니다. 예를 들어, 다음과 같은 강의가 있을 수 있습니다:\\n\\n1. **프로그래밍 언어**: Python, Java, JavaScript, C++ 등\\n2. **웹 개발**: HTML, CSS, React, Node.js 등\\n3. **데이터 과학**: 머신러닝, 데이터 분석, R, SQL 등\\n4. **모바일 개발**: 안드로이드, iOS 개발 관련 강의\\n5. **디자인**: UX/UI 디자인, 그래픽 디자인 등\\n6. **마케팅**: 디지털 마케팅, SEO, 소셜 미디어 마케팅 등\\n\\n각 강의는 강사의 스타일이나 난이도에 따라 다양하게 구성되어 있으므로, 원하는 주제와 수준에 맞는 강의를 찾아 수강할 수 있습니다. 인프런 웹사이트를 방문하면 최신 강의 목록과 세부 정보를 확인할 수 있습니다.'"
      ]
     },
     "execution_count": 5,
     "metadata": {},
     "output_type": "execute_result"
    }
   ],
   "source": [
    "ai_message.content"
   ]
  },
  {
   "cell_type": "code",
   "execution_count": null,
   "metadata": {},
   "outputs": [],
   "source": []
  },
  {
   "cell_type": "code",
   "execution_count": null,
   "metadata": {},
   "outputs": [],
   "source": []
  }
 ],
 "metadata": {
  "kernelspec": {
   "display_name": "Python 3",
   "language": "python",
   "name": "python3"
  },
  "language_info": {
   "codemirror_mode": {
    "name": "ipython",
    "version": 3
   },
   "file_extension": ".py",
   "mimetype": "text/x-python",
   "name": "python",
   "nbconvert_exporter": "python",
   "pygments_lexer": "ipython3",
   "version": "3.10.11"
  }
 },
 "nbformat": 4,
 "nbformat_minor": 2
}
