{
 "cells": [
  {
   "cell_type": "markdown",
   "metadata": {},
   "source": [
    "# 1. 패키지 설치"
   ]
  },
  {
   "cell_type": "code",
   "execution_count": 1,
   "metadata": {},
   "outputs": [
    {
     "name": "stdout",
     "output_type": "stream",
     "text": [
      "Note: you may need to restart the kernel to use updated packages.\n"
     ]
    },
    {
     "name": "stderr",
     "output_type": "stream",
     "text": [
      "\n",
      "[notice] A new release of pip is available: 24.3.1 -> 25.0.1\n",
      "[notice] To update, run: python.exe -m pip install --upgrade pip\n"
     ]
    }
   ],
   "source": [
    "%pip install -q python-dotenv langchain-openai"
   ]
  },
  {
   "cell_type": "markdown",
   "metadata": {},
   "source": [
    "# 2. 환경변수 불러오기\n",
    "\n",
    "- `.env` 파일에 `OPENAI_API_KEY` 등록"
   ]
  },
  {
   "cell_type": "code",
   "execution_count": 2,
   "metadata": {},
   "outputs": [
    {
     "data": {
      "text/plain": [
       "True"
      ]
     },
     "execution_count": 2,
     "metadata": {},
     "output_type": "execute_result"
    }
   ],
   "source": [
    "from dotenv import load_dotenv\n",
    "\n",
    "load_dotenv()"
   ]
  },
  {
   "cell_type": "markdown",
   "metadata": {},
   "source": [
    "# 3. LLM 답변 생성\n",
    "\n",
    "- OpenAI 대시보드에서 발급받은 API Key를 `OPENAI_API_KEY`라고 저장하면 별도의 설정 없이 `ChatOpenAI`를 사용할 수 있음"
   ]
  },
  {
   "cell_type": "code",
   "execution_count": 3,
   "metadata": {},
   "outputs": [],
   "source": [
    "from langchain_openai import ChatOpenAI\n",
    "\n",
    "llm = ChatOpenAI(model_name='gpt-4o')"
   ]
  },
  {
   "cell_type": "code",
   "execution_count": 4,
   "metadata": {},
   "outputs": [],
   "source": [
    "ai_message = llm.invoke(\"인프런에 어떤 강의가 있나요?\")"
   ]
  },
  {
   "cell_type": "code",
   "execution_count": 5,
   "metadata": {},
   "outputs": [
    {
     "data": {
      "text/plain": [
       "'인프런은 다양한 분야의 온라인 강의를 제공하는 플랫폼입니다. 주요 카테고리에는 다음과 같은 것들이 포함됩니다:\\n\\n1. **프로그래밍 및 개발**: 파이썬, 자바, 자바스크립트, C++, 웹 개발, 모바일 앱 개발 등 다양한 프로그래밍 언어 및 기술 강의.\\n\\n2. **데이터 사이언스 및 인공지능**: 데이터 분석, 머신러닝, 딥러닝, 통계학 관련 강의.\\n\\n3. **디자인**: 그래픽 디자인, UX/UI 디자인, 포토샵, 일러스트레이터 등.\\n\\n4. **비즈니스 및 마케팅**: 마케팅 전략, 데이터 기반 마케팅, 창업, 경영 등.\\n\\n5. **자기 계발**: 생산성 향상, 커뮤니케이션 스킬, 리더십 등.\\n\\n6. **음악 및 예술**: 악기 연주, 음악 이론, 미술 기법 등.\\n\\n각 강의는 초급부터 고급까지 다양한 수준으로 제공되며, 실습과 프로젝트를 포함하여 실질적인 기술 습득을 도와줍니다. 인프런 웹사이트를 방문하시면 더 많은 강의와 세부 정보를 확인할 수 있습니다.'"
      ]
     },
     "execution_count": 5,
     "metadata": {},
     "output_type": "execute_result"
    }
   ],
   "source": [
    "ai_message.content"
   ]
  },
  {
   "cell_type": "code",
   "execution_count": null,
   "metadata": {},
   "outputs": [],
   "source": []
  },
  {
   "cell_type": "code",
   "execution_count": null,
   "metadata": {},
   "outputs": [],
   "source": []
  }
 ],
 "metadata": {
  "kernelspec": {
   "display_name": "Python 3",
   "language": "python",
   "name": "python3"
  },
  "language_info": {
   "codemirror_mode": {
    "name": "ipython",
    "version": 3
   },
   "file_extension": ".py",
   "mimetype": "text/x-python",
   "name": "python",
   "nbconvert_exporter": "python",
   "pygments_lexer": "ipython3",
   "version": "3.10.11"
  }
 },
 "nbformat": 4,
 "nbformat_minor": 2
}
