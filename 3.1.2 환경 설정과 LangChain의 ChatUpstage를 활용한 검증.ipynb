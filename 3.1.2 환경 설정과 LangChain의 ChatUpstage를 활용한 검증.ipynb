{
 "cells": [
  {
   "cell_type": "markdown",
   "metadata": {},
   "source": [
    "# 1. 패키지 설치"
   ]
  },
  {
   "cell_type": "code",
   "execution_count": 1,
   "metadata": {},
   "outputs": [
    {
     "name": "stdout",
     "output_type": "stream",
     "text": [
      "Note: you may need to restart the kernel to use updated packages.\n"
     ]
    },
    {
     "name": "stderr",
     "output_type": "stream",
     "text": [
      "\n",
      "[notice] A new release of pip is available: 24.3.1 -> 25.0.1\n",
      "[notice] To update, run: python.exe -m pip install --upgrade pip\n"
     ]
    }
   ],
   "source": [
    "%pip install -q python-dotenv langchain-upstage"
   ]
  },
  {
   "cell_type": "markdown",
   "metadata": {},
   "source": [
    "# 2. 환경변수 불러오기\n",
    "\n",
    "- `.env` 파일에 `OPENAI_API_KEY` 등록"
   ]
  },
  {
   "cell_type": "code",
   "execution_count": 2,
   "metadata": {},
   "outputs": [
    {
     "data": {
      "text/plain": [
       "True"
      ]
     },
     "execution_count": 2,
     "metadata": {},
     "output_type": "execute_result"
    }
   ],
   "source": [
    "from dotenv import load_dotenv\n",
    "\n",
    "load_dotenv()"
   ]
  },
  {
   "cell_type": "markdown",
   "metadata": {},
   "source": [
    "# 3. LLM 답변 생성\n",
    "\n",
    "- Upstage Console에서 발급받은 API Key를 `UPSTAGE_API_KEY`라고 저장하면 별도의 설정 없이 `ChatUpstage`를 사용할 수 있음"
   ]
  },
  {
   "cell_type": "code",
   "execution_count": 3,
   "metadata": {},
   "outputs": [],
   "source": [
    "from langchain_upstage import ChatUpstage\n",
    "\n",
    "llm = ChatUpstage()"
   ]
  },
  {
   "cell_type": "code",
   "execution_count": 4,
   "metadata": {},
   "outputs": [],
   "source": [
    "ai_message = llm.invoke(\"인프런에 어떤 강의가 있나요?\")"
   ]
  },
  {
   "cell_type": "code",
   "execution_count": 5,
   "metadata": {},
   "outputs": [
    {
     "data": {
      "text/plain": [
       "'인프런에는 다양한 주제와 수준의 강의가 있습니다. 몇 가지 주요 카테고리와 인기 있는 강의를 소개해 드리겠습니다:\\n\\n1. 프로그래밍 및 개발:\\n- 웹 개발: JavaScript, Python 웹 프로그래밍, React, Vue.js 등\\n- 프로그래밍 언어: Python, Java, JavaScript, C++ 등\\n- 데이터베이스: SQL, MongoDB, NoSQL 등\\n- 모바일 개발: Android, iOS 앱 개발\\n- 그 외: 알고리즘, 데이터 구조, 소프트웨어 공학 등\\n\\n2. 디자인 및 그래픽:\\n- 포토샵, 일러스트레이터, 인디자인 등 Adobe 소프트웨어 활용 강의\\n- 웹 디자인 및 UX/UI 디자인\\n- 3D 그래픽 및 애니메이션 (Blender, Maya 등)\\n- 그래픽 디자인 원리 및 실습\\n\\n3. 비즈니스 및 마케팅:\\n- 디지털 마케팅, SEO, SNS 마케팅\\n- 비즈니스 분석, 전략 기획\\n- 데이터 분석 및 비즈니스 인텔리전스\\n- 경영 및 리더십 강의\\n\\n4. 데이터 과학 및 AI:\\n- Python을 활용한 데이터 분석 및 머신러닝\\n- R 프로그래밍\\n- 데이터 시각화 (Tableau, PowerBI 등)\\n- 딥러닝 및 인공신경망\\n\\n5. 클라우드 컴퓨팅:\\n- AWS, Google Cloud, Microsoft Azure 등의 클라우드 플랫폼 활용 강의\\n- 컨테이너 기술 (Docker, Kubernetes)\\n- 클라우드 아키텍처 설계 및 운영\\n\\n6. 보안:\\n- 사이버 보안, 네트워크 보안\\n- 윤리적 해킹 및 침투 테스트\\n- 정보 보안 관리\\n\\n이 외에도 다양한 주제의 강의가 있으며, 인프런 웹사이트에서 검색하여 원하는 강의를 찾아보실 수 있습니다.'"
      ]
     },
     "execution_count": 5,
     "metadata": {},
     "output_type": "execute_result"
    }
   ],
   "source": [
    "ai_message.content"
   ]
  },
  {
   "cell_type": "code",
   "execution_count": null,
   "metadata": {},
   "outputs": [],
   "source": []
  }
 ],
 "metadata": {
  "kernelspec": {
   "display_name": "Python 3",
   "language": "python",
   "name": "python3"
  },
  "language_info": {
   "codemirror_mode": {
    "name": "ipython",
    "version": 3
   },
   "file_extension": ".py",
   "mimetype": "text/x-python",
   "name": "python",
   "nbconvert_exporter": "python",
   "pygments_lexer": "ipython3",
   "version": "3.10.11"
  }
 },
 "nbformat": 4,
 "nbformat_minor": 2
}
