{
 "cells": [
  {
   "cell_type": "markdown",
   "metadata": {},
   "source": [
    "# 1. 패키지 설치"
   ]
  },
  {
   "cell_type": "code",
   "execution_count": 1,
   "metadata": {},
   "outputs": [
    {
     "name": "stdout",
     "output_type": "stream",
     "text": [
      "Note: you may need to restart the kernel to use updated packages.\n"
     ]
    },
    {
     "name": "stderr",
     "output_type": "stream",
     "text": [
      "ERROR: pip's dependency resolver does not currently take into account all the packages that are installed. This behaviour is the source of the following dependency conflicts.\n",
      "transformers 4.45.1 requires tokenizers<0.21,>=0.20, but you have tokenizers 0.19.1 which is incompatible.\n"
     ]
    }
   ],
   "source": [
    "%pip install -q python-dotenv langchain-upstage"
   ]
  },
  {
   "cell_type": "markdown",
   "metadata": {},
   "source": [
    "# 2. 환경변수 불러오기\n",
    "\n",
    "- `.env` 파일에 `OPENAI_API_KEY` 등록"
   ]
  },
  {
   "cell_type": "code",
   "execution_count": 1,
   "metadata": {},
   "outputs": [
    {
     "data": {
      "text/plain": [
       "True"
      ]
     },
     "execution_count": 1,
     "metadata": {},
     "output_type": "execute_result"
    }
   ],
   "source": [
    "from dotenv import load_dotenv\n",
    "\n",
    "load_dotenv()"
   ]
  },
  {
   "cell_type": "markdown",
   "metadata": {},
   "source": [
    "# 3. LLM 답변 생성\n",
    "\n",
    "- Upstage Console에서 발급받은 API Key를 `UPSTAGE_API_KEY`라고 저장하면 별도의 설정 없이 `ChatUpstage`를 사용할 수 있음"
   ]
  },
  {
   "cell_type": "code",
   "execution_count": 2,
   "metadata": {},
   "outputs": [],
   "source": [
    "from langchain_upstage import ChatUpstage\n",
    "\n",
    "llm = ChatUpstage()"
   ]
  },
  {
   "cell_type": "code",
   "execution_count": 3,
   "metadata": {},
   "outputs": [],
   "source": [
    "ai_message = llm.invoke(\"인프런에 어떤 강의가 있나요?\")"
   ]
  },
  {
   "cell_type": "code",
   "execution_count": 4,
   "metadata": {},
   "outputs": [
    {
     "data": {
      "text/plain": [
       "'인프런은 다양한 분야의 IT 강의를 제공하는 온라인 강의 플랫폼입니다. 인프런에서 제공하는 강의는 다음과 같습니다.\\n\\n* 프로그래밍: 파이썬, 자바, C++, 자바스크립트, HTML/CSS 등 다양한 프로그래밍 언어와 관련된 강의를 제공합니다.\\n* 데이터 사이언스: 머신러닝, 딥러닝, 데이터 분석, 통계 등 데이터 사이언스 관련 강의를 제공합니다.\\n* 클라우드 컴퓨팅: AWS, GCP, Azure, Kubernetes 등 클라우드 컴퓨팅 관련 강의를 제공합니다.\\n* 웹 개발: 프론트엔드 개발, 백엔드 개발, 웹 서버, 웹 보안 등 웹 개발 관련 강의를 제공합니다.\\n* 보안: 네트워크 보안, 웹 해킹, 악성코드 분석 등 보안 관련 강의를 제공합니다.\\n* 데이터베이스: MySQL, MongoDB, SQL 등 데이터베이스 관련 강의를 제공합니다.\\n* 운영체제: 리눅스, 윈도우, 맥OS 등 운영체제 관련 강의를 제공합니다.\\n* 네트워킹: 네트워크 기초, TCP/IP, CCNA 등 네트워킹 관련 강의를 제공합니다.\\n* 모바일 개발: 안드로이드 개발, iOS 개발 등 모바일 개발 관련 강의를 제공합니다.\\n\\n이 외에도 다양한 분야의 강의를 제공하고 있으니, 인프런 홈페이지에서 자세한 강의 목록을 확인하실 수 있습니다.'"
      ]
     },
     "execution_count": 4,
     "metadata": {},
     "output_type": "execute_result"
    }
   ],
   "source": [
    "ai_message.content"
   ]
  },
  {
   "cell_type": "code",
   "execution_count": null,
   "metadata": {},
   "outputs": [],
   "source": []
  }
 ],
 "metadata": {
  "kernelspec": {
   "display_name": "Python 3",
   "language": "python",
   "name": "python3"
  },
  "language_info": {
   "codemirror_mode": {
    "name": "ipython",
    "version": 3
   },
   "file_extension": ".py",
   "mimetype": "text/x-python",
   "name": "python",
   "nbconvert_exporter": "python",
   "pygments_lexer": "ipython3",
   "version": "3.10.11"
  }
 },
 "nbformat": 4,
 "nbformat_minor": 2
}
