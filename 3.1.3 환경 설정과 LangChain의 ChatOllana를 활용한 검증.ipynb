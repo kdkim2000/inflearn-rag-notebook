{
 "cells": [
  {
   "cell_type": "markdown",
   "metadata": {},
   "source": [
    "# 1. 패키지 설치"
   ]
  },
  {
   "cell_type": "code",
   "execution_count": 1,
   "metadata": {},
   "outputs": [
    {
     "name": "stdout",
     "output_type": "stream",
     "text": [
      "Note: you may need to restart the kernel to use updated packages.\n"
     ]
    }
   ],
   "source": [
    "%pip install -q python-dotenv langchain-community"
   ]
  },
  {
   "cell_type": "markdown",
   "metadata": {},
   "source": [
    "# 2. LLM 답변 생성\n",
    "https://ollama.com/download\n",
    "\n",
    "- `ChatOllama` 를 활용한 LLM 답변 생성\n",
    "- 터미널에서 `ollama pull gemma2` 와 같이 원하는 모델을 가져와야 실행 가능"
   ]
  },
  {
   "cell_type": "code",
   "execution_count": 5,
   "metadata": {},
   "outputs": [],
   "source": [
    "from langchain_community.chat_models import ChatOllama\n",
    "\n",
    "llm = ChatOllama(model=\"gemma2\")\n"
   ]
  },
  {
   "cell_type": "code",
   "execution_count": 6,
   "metadata": {},
   "outputs": [],
   "source": [
    "ai_message = llm.invoke(\"인프런에 어떤 강의가 있나요?\")"
   ]
  },
  {
   "cell_type": "code",
   "execution_count": 7,
   "metadata": {},
   "outputs": [
    {
     "data": {
      "text/plain": [
       "'저는 인프런의 실시간 데이터에 접근할 수 없기 때문에 현재 제공되는 모든 강의 목록을 알려드릴 수 없습니다. \\n\\n하지만, 인프런은 다양한 분야의 온라인 강의를 제공하는 플랫폼이므로 예상 가능한 주요 카테고리와 그 안에서 찾을 수 있는 강의 종류는 다음과 같습니다:\\n\\n**IT & 프로그래밍:**\\n\\n* **웹 개발:** HTML, CSS, JavaScript, Python, React, Node.js 등\\n* **모바일 개발:** Android, iOS, Flutter, Swift 등\\n* **데이터 과학:** Python, R, Machine Learning, Deep Learning 등\\n* **클라우드 컴퓨팅:** AWS, Azure, GCP 등\\n\\n**디자인 & 미디어:**\\n\\n* **그래픽 디자인:** Photoshop, Illustrator, Canva 등\\n* **웹 디자인:** UI/UX 디자인, 웹 페이지 제작 등\\n* **사진 및 영상 편집:** Premiere Pro, After Effects 등\\n* **3D 모델링 & 애니메이션:** Blender, Maya 등\\n\\n**비즈니스 & 마케팅:**\\n\\n* **온라인 마케팅:** SEO, SEM, SNS 마케팅 등\\n* **디지털 마케팅:** Google Analytics, HubSpot 등\\n* **사업 계획 및 운영:** 창업 아이디어 발굴, 사업 모델 구축 등\\n* **리더십 & 소통:** 효과적인 리더십, 커뮤니케이션 기술 개발 등\\n\\n**학습 & 교육:**\\n\\n* **외국어 학습:** 영어, 일본어, 중국어 등\\n* **문제 해결 및 논리 사고:** 퍼즐, 게임 등을 통한 학습\\n* **창의력 & 직업 훈련:** 디자인, 프로그래밍, 취미 활동 등\\n\\n**예술 & 문화:**\\n\\n* **음악 및 악기 연주:** 피아노, 기타, 드럼 등\\n* **미술 & 공예:** 그림 그리기, 조각, 도자기 만들기 등\\n* **춤 & 운동:** 발레, contemporaine, 요가 등\\n\\n\\n이 외에도 인프런은 새로운 분야와 트렌드에 따라 다양한 강의를 추가하고 있습니다. \\n\\n인프런 웹사이트 또는 모바일 앱을 방문하여 현재 제공되는 강의 목록과 상세 정보를 확인하는 것을 추천합니다.'"
      ]
     },
     "execution_count": 7,
     "metadata": {},
     "output_type": "execute_result"
    }
   ],
   "source": [
    "ai_message.content"
   ]
  },
  {
   "cell_type": "markdown",
   "metadata": {},
   "source": [
    "'저는 인프런의 실시간 데이터에 접근할 수 없기 때문에 현재 제공되는 모든 강의 목록을 알려드릴 수 없습니다. \\n\\n하지만, 인프런은 다양한 분야의 온라인 강의를 제공하는 플랫폼이므로 예상 가능한 주요 카테고리와 그 안에서 찾을 수 있는 강의 종류는 다음과 같습니다:\\n\\n**IT & 프로그래밍:**\\n\\n* **웹 개발:** HTML, CSS, JavaScript, Python, React, Node.js 등\\n* **모바일 개발:** Android, iOS, Flutter, Swift 등\\n* **데이터 과학:** Python, R, Machine Learning, Deep Learning 등\\n* **클라우드 컴퓨팅:** AWS, Azure, GCP 등\\n\\n**디자인 & 미디어:**\\n\\n* **그래픽 디자인:** Photoshop, Illustrator, Canva 등\\n* **웹 디자인:** UI/UX 디자인, 웹 페이지 제작 등\\n* **사진 및 영상 편집:** Premiere Pro, After Effects 등\\n* **3D 모델링 & 애니메이션:** Blender, Maya 등\\n\\n**비즈니스 & 마케팅:**\\n\\n* **온라인 마케팅:** SEO, SEM, SNS 마케팅 등\\n* **디지털 마케팅:** Google Analytics, HubSpot 등\\n* **사업 계획 및 운영:** 창업 아이디어 발굴, 사업 모델 구축 등\\n* **리더십 & 소통:** 효과적인 리더십, 커뮤니케이션 기술 개발 등\\n\\n**학습 & 교육:**\\n\\n* **외국어 학습:** 영어, 일본어, 중국어 등\\n* **문제 해결 및 논리 사고:** 퍼즐, 게임 등을 통한 학습\\n* **창의력 & 직업 훈련:** 디자인, 프로그래밍, 취미 활동 등\\n\\n**예술 & 문화:**\\n\\n* **음악 및 악기 연주:** 피아노, 기타, 드럼 등\\n* **미술 & 공예:** 그림 그리기, 조각, 도자기 만들기 등\\n* **춤 & 운동:** 발레, contemporaine, 요가 등\\n\\n\\n이 외에도 인프런은 새로운 분야와 트렌드에 따라 다양한 강의를 추가하고 있습니다. \\n\\n인프런 웹사이트 또는 모바일 앱을 방문하여 현재 제공되는 강의 목록과 상세 정보를 확인하는 것을 추천합니다.'\n",
    "Note: you may need to restart the kernel to use updated packages."
   ]
  },
  {
   "cell_type": "markdown",
   "metadata": {},
   "source": []
  }
 ],
 "metadata": {
  "kernelspec": {
   "display_name": "Python 3",
   "language": "python",
   "name": "python3"
  },
  "language_info": {
   "codemirror_mode": {
    "name": "ipython",
    "version": 3
   },
   "file_extension": ".py",
   "mimetype": "text/x-python",
   "name": "python",
   "nbconvert_exporter": "python",
   "pygments_lexer": "ipython3",
   "version": "3.10.11"
  }
 },
 "nbformat": 4,
 "nbformat_minor": 2
}
