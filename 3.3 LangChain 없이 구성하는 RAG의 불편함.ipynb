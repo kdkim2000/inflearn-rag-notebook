{
 "cells": [
  {
   "cell_type": "markdown",
   "metadata": {},
   "source": [
    "# 1. 패키지 설치"
   ]
  },
  {
   "cell_type": "code",
   "execution_count": 1,
   "metadata": {},
   "outputs": [
    {
     "name": "stdout",
     "output_type": "stream",
     "text": [
      "Requirement already satisfied: python-docx in d:\\python310\\lib\\site-packages (1.1.2)\n",
      "Requirement already satisfied: python-dotenv in d:\\python310\\lib\\site-packages (1.0.1)\n",
      "Requirement already satisfied: tiktoken in d:\\python310\\lib\\site-packages (0.7.0)\n",
      "Requirement already satisfied: chromadb in d:\\python310\\lib\\site-packages (0.5.17)\n",
      "Requirement already satisfied: openai in d:\\python310\\lib\\site-packages (1.46.0)\n",
      "Requirement already satisfied: lxml>=3.1.0 in d:\\python310\\lib\\site-packages (from python-docx) (5.3.0)\n",
      "Requirement already satisfied: typing-extensions>=4.9.0 in c:\\users\\김경덕\\appdata\\roaming\\python\\python310\\site-packages (from python-docx) (4.12.2)\n",
      "Requirement already satisfied: regex>=2022.1.18 in d:\\python310\\lib\\site-packages (from tiktoken) (2024.9.11)\n",
      "Requirement already satisfied: requests>=2.26.0 in d:\\python310\\lib\\site-packages (from tiktoken) (2.32.3)\n",
      "Requirement already satisfied: build>=1.0.3 in d:\\python310\\lib\\site-packages (from chromadb) (1.2.2.post1)\n",
      "Requirement already satisfied: pydantic>=1.9 in d:\\python310\\lib\\site-packages (from chromadb) (2.9.2)\n",
      "Requirement already satisfied: chroma-hnswlib==0.7.6 in d:\\python310\\lib\\site-packages (from chromadb) (0.7.6)\n",
      "Requirement already satisfied: fastapi>=0.95.2 in d:\\python310\\lib\\site-packages (from chromadb) (0.115.4)\n",
      "Requirement already satisfied: uvicorn>=0.18.3 in d:\\python310\\lib\\site-packages (from uvicorn[standard]>=0.18.3->chromadb) (0.32.0)\n",
      "Requirement already satisfied: numpy>=1.22.5 in d:\\python310\\lib\\site-packages (from chromadb) (1.26.4)\n",
      "Requirement already satisfied: posthog>=2.4.0 in d:\\python310\\lib\\site-packages (from chromadb) (3.7.0)\n",
      "Requirement already satisfied: onnxruntime>=1.14.1 in d:\\python310\\lib\\site-packages (from chromadb) (1.20.0)\n",
      "Requirement already satisfied: opentelemetry-api>=1.2.0 in d:\\python310\\lib\\site-packages (from chromadb) (1.27.0)\n",
      "Requirement already satisfied: opentelemetry-exporter-otlp-proto-grpc>=1.2.0 in d:\\python310\\lib\\site-packages (from chromadb) (1.27.0)\n",
      "Requirement already satisfied: opentelemetry-instrumentation-fastapi>=0.41b0 in d:\\python310\\lib\\site-packages (from chromadb) (0.48b0)\n",
      "Requirement already satisfied: opentelemetry-sdk>=1.2.0 in d:\\python310\\lib\\site-packages (from chromadb) (1.27.0)\n",
      "Requirement already satisfied: tokenizers>=0.13.2 in d:\\python310\\lib\\site-packages (from chromadb) (0.19.1)\n",
      "Requirement already satisfied: pypika>=0.48.9 in d:\\python310\\lib\\site-packages (from chromadb) (0.48.9)\n",
      "Requirement already satisfied: tqdm>=4.65.0 in d:\\python310\\lib\\site-packages (from chromadb) (4.66.5)\n",
      "Requirement already satisfied: overrides>=7.3.1 in d:\\python310\\lib\\site-packages (from chromadb) (7.7.0)\n",
      "Requirement already satisfied: importlib-resources in d:\\python310\\lib\\site-packages (from chromadb) (6.4.5)\n",
      "Requirement already satisfied: grpcio>=1.58.0 in d:\\python310\\lib\\site-packages (from chromadb) (1.67.1)\n",
      "Requirement already satisfied: bcrypt>=4.0.1 in d:\\python310\\lib\\site-packages (from chromadb) (4.2.0)\n",
      "Requirement already satisfied: typer>=0.9.0 in d:\\python310\\lib\\site-packages (from chromadb) (0.12.5)\n",
      "Requirement already satisfied: kubernetes>=28.1.0 in d:\\python310\\lib\\site-packages (from chromadb) (31.0.0)\n",
      "Requirement already satisfied: tenacity>=8.2.3 in d:\\python310\\lib\\site-packages (from chromadb) (8.5.0)\n",
      "Requirement already satisfied: PyYAML>=6.0.0 in d:\\python310\\lib\\site-packages (from chromadb) (6.0.2)\n",
      "Requirement already satisfied: mmh3>=4.0.1 in d:\\python310\\lib\\site-packages (from chromadb) (5.0.1)\n",
      "Requirement already satisfied: orjson>=3.9.12 in d:\\python310\\lib\\site-packages (from chromadb) (3.10.7)\n",
      "Requirement already satisfied: httpx>=0.27.0 in d:\\python310\\lib\\site-packages (from chromadb) (0.27.2)\n",
      "Requirement already satisfied: rich>=10.11.0 in d:\\python310\\lib\\site-packages (from chromadb) (13.8.1)\n",
      "Requirement already satisfied: anyio<5,>=3.5.0 in d:\\python310\\lib\\site-packages (from openai) (4.4.0)\n",
      "Requirement already satisfied: distro<2,>=1.7.0 in d:\\python310\\lib\\site-packages (from openai) (1.9.0)\n",
      "Requirement already satisfied: jiter<1,>=0.4.0 in d:\\python310\\lib\\site-packages (from openai) (0.5.0)\n",
      "Requirement already satisfied: sniffio in d:\\python310\\lib\\site-packages (from openai) (1.3.1)\n",
      "Requirement already satisfied: idna>=2.8 in d:\\python310\\lib\\site-packages (from anyio<5,>=3.5.0->openai) (3.10)\n",
      "Requirement already satisfied: exceptiongroup>=1.0.2 in c:\\users\\김경덕\\appdata\\roaming\\python\\python310\\site-packages (from anyio<5,>=3.5.0->openai) (1.2.2)\n",
      "Requirement already satisfied: packaging>=19.1 in c:\\users\\김경덕\\appdata\\roaming\\python\\python310\\site-packages (from build>=1.0.3->chromadb) (24.1)\n",
      "Requirement already satisfied: pyproject_hooks in d:\\python310\\lib\\site-packages (from build>=1.0.3->chromadb) (1.2.0)\n",
      "Requirement already satisfied: colorama in c:\\users\\김경덕\\appdata\\roaming\\python\\python310\\site-packages (from build>=1.0.3->chromadb) (0.4.6)\n",
      "Requirement already satisfied: tomli>=1.1.0 in d:\\python310\\lib\\site-packages (from build>=1.0.3->chromadb) (2.0.2)\n",
      "Requirement already satisfied: starlette<0.42.0,>=0.40.0 in d:\\python310\\lib\\site-packages (from fastapi>=0.95.2->chromadb) (0.41.2)\n",
      "Requirement already satisfied: certifi in d:\\python310\\lib\\site-packages (from httpx>=0.27.0->chromadb) (2024.8.30)\n",
      "Requirement already satisfied: httpcore==1.* in d:\\python310\\lib\\site-packages (from httpx>=0.27.0->chromadb) (1.0.5)\n",
      "Requirement already satisfied: h11<0.15,>=0.13 in d:\\python310\\lib\\site-packages (from httpcore==1.*->httpx>=0.27.0->chromadb) (0.14.0)\n",
      "Requirement already satisfied: six>=1.9.0 in c:\\users\\김경덕\\appdata\\roaming\\python\\python310\\site-packages (from kubernetes>=28.1.0->chromadb) (1.16.0)\n",
      "Requirement already satisfied: python-dateutil>=2.5.3 in c:\\users\\김경덕\\appdata\\roaming\\python\\python310\\site-packages (from kubernetes>=28.1.0->chromadb) (2.9.0.post0)\n",
      "Requirement already satisfied: google-auth>=1.0.1 in d:\\python310\\lib\\site-packages (from kubernetes>=28.1.0->chromadb) (2.35.0)\n",
      "Requirement already satisfied: websocket-client!=0.40.0,!=0.41.*,!=0.42.*,>=0.32.0 in d:\\python310\\lib\\site-packages (from kubernetes>=28.1.0->chromadb) (1.8.0)\n",
      "Requirement already satisfied: requests-oauthlib in d:\\python310\\lib\\site-packages (from kubernetes>=28.1.0->chromadb) (2.0.0)\n",
      "Requirement already satisfied: oauthlib>=3.2.2 in d:\\python310\\lib\\site-packages (from kubernetes>=28.1.0->chromadb) (3.2.2)\n",
      "Requirement already satisfied: urllib3>=1.24.2 in d:\\python310\\lib\\site-packages (from kubernetes>=28.1.0->chromadb) (2.2.3)\n",
      "Requirement already satisfied: durationpy>=0.7 in d:\\python310\\lib\\site-packages (from kubernetes>=28.1.0->chromadb) (0.9)\n",
      "Requirement already satisfied: coloredlogs in d:\\python310\\lib\\site-packages (from onnxruntime>=1.14.1->chromadb) (15.0.1)\n",
      "Requirement already satisfied: flatbuffers in d:\\python310\\lib\\site-packages (from onnxruntime>=1.14.1->chromadb) (24.3.25)\n",
      "Requirement already satisfied: protobuf in d:\\python310\\lib\\site-packages (from onnxruntime>=1.14.1->chromadb) (3.20.3)\n",
      "Requirement already satisfied: sympy in d:\\python310\\lib\\site-packages (from onnxruntime>=1.14.1->chromadb) (1.13.3)\n",
      "Requirement already satisfied: deprecated>=1.2.6 in d:\\python310\\lib\\site-packages (from opentelemetry-api>=1.2.0->chromadb) (1.2.14)\n",
      "Requirement already satisfied: importlib-metadata<=8.4.0,>=6.0 in d:\\python310\\lib\\site-packages (from opentelemetry-api>=1.2.0->chromadb) (8.4.0)\n",
      "Requirement already satisfied: googleapis-common-protos~=1.52 in d:\\python310\\lib\\site-packages (from opentelemetry-exporter-otlp-proto-grpc>=1.2.0->chromadb) (1.65.0)\n",
      "Requirement already satisfied: opentelemetry-exporter-otlp-proto-common==1.27.0 in d:\\python310\\lib\\site-packages (from opentelemetry-exporter-otlp-proto-grpc>=1.2.0->chromadb) (1.27.0)\n",
      "Requirement already satisfied: opentelemetry-proto==1.27.0 in d:\\python310\\lib\\site-packages (from opentelemetry-exporter-otlp-proto-grpc>=1.2.0->chromadb) (1.27.0)\n",
      "Requirement already satisfied: opentelemetry-instrumentation-asgi==0.48b0 in d:\\python310\\lib\\site-packages (from opentelemetry-instrumentation-fastapi>=0.41b0->chromadb) (0.48b0)\n",
      "Requirement already satisfied: opentelemetry-instrumentation==0.48b0 in d:\\python310\\lib\\site-packages (from opentelemetry-instrumentation-fastapi>=0.41b0->chromadb) (0.48b0)\n",
      "Requirement already satisfied: opentelemetry-semantic-conventions==0.48b0 in d:\\python310\\lib\\site-packages (from opentelemetry-instrumentation-fastapi>=0.41b0->chromadb) (0.48b0)\n",
      "Requirement already satisfied: opentelemetry-util-http==0.48b0 in d:\\python310\\lib\\site-packages (from opentelemetry-instrumentation-fastapi>=0.41b0->chromadb) (0.48b0)\n",
      "Requirement already satisfied: setuptools>=16.0 in d:\\python310\\lib\\site-packages (from opentelemetry-instrumentation==0.48b0->opentelemetry-instrumentation-fastapi>=0.41b0->chromadb) (65.5.0)\n",
      "Requirement already satisfied: wrapt<2.0.0,>=1.0.0 in d:\\python310\\lib\\site-packages (from opentelemetry-instrumentation==0.48b0->opentelemetry-instrumentation-fastapi>=0.41b0->chromadb) (1.16.0)\n",
      "Requirement already satisfied: asgiref~=3.0 in d:\\python310\\lib\\site-packages (from opentelemetry-instrumentation-asgi==0.48b0->opentelemetry-instrumentation-fastapi>=0.41b0->chromadb) (3.8.1)\n",
      "Requirement already satisfied: monotonic>=1.5 in d:\\python310\\lib\\site-packages (from posthog>=2.4.0->chromadb) (1.6)\n",
      "Requirement already satisfied: backoff>=1.10.0 in d:\\python310\\lib\\site-packages (from posthog>=2.4.0->chromadb) (2.2.1)\n",
      "Requirement already satisfied: annotated-types>=0.6.0 in d:\\python310\\lib\\site-packages (from pydantic>=1.9->chromadb) (0.7.0)\n",
      "Requirement already satisfied: pydantic-core==2.23.4 in d:\\python310\\lib\\site-packages (from pydantic>=1.9->chromadb) (2.23.4)\n",
      "Requirement already satisfied: charset-normalizer<4,>=2 in d:\\python310\\lib\\site-packages (from requests>=2.26.0->tiktoken) (3.3.2)\n",
      "Requirement already satisfied: markdown-it-py>=2.2.0 in d:\\python310\\lib\\site-packages (from rich>=10.11.0->chromadb) (3.0.0)\n",
      "Requirement already satisfied: pygments<3.0.0,>=2.13.0 in c:\\users\\김경덕\\appdata\\roaming\\python\\python310\\site-packages (from rich>=10.11.0->chromadb) (2.18.0)\n",
      "Requirement already satisfied: huggingface-hub<1.0,>=0.16.4 in d:\\python310\\lib\\site-packages (from tokenizers>=0.13.2->chromadb) (0.25.0)\n",
      "Requirement already satisfied: click>=8.0.0 in d:\\python310\\lib\\site-packages (from typer>=0.9.0->chromadb) (8.1.7)\n",
      "Requirement already satisfied: shellingham>=1.3.0 in d:\\python310\\lib\\site-packages (from typer>=0.9.0->chromadb) (1.5.4)\n",
      "Requirement already satisfied: httptools>=0.5.0 in d:\\python310\\lib\\site-packages (from uvicorn[standard]>=0.18.3->chromadb) (0.6.4)\n",
      "Requirement already satisfied: watchfiles>=0.13 in d:\\python310\\lib\\site-packages (from uvicorn[standard]>=0.18.3->chromadb) (0.24.0)\n",
      "Requirement already satisfied: websockets>=10.4 in d:\\python310\\lib\\site-packages (from uvicorn[standard]>=0.18.3->chromadb) (13.1)\n",
      "Requirement already satisfied: cachetools<6.0,>=2.0.0 in d:\\python310\\lib\\site-packages (from google-auth>=1.0.1->kubernetes>=28.1.0->chromadb) (5.5.0)\n",
      "Requirement already satisfied: pyasn1-modules>=0.2.1 in d:\\python310\\lib\\site-packages (from google-auth>=1.0.1->kubernetes>=28.1.0->chromadb) (0.4.1)\n",
      "Requirement already satisfied: rsa<5,>=3.1.4 in d:\\python310\\lib\\site-packages (from google-auth>=1.0.1->kubernetes>=28.1.0->chromadb) (4.9)\n",
      "Requirement already satisfied: filelock in d:\\python310\\lib\\site-packages (from huggingface-hub<1.0,>=0.16.4->tokenizers>=0.13.2->chromadb) (3.16.1)\n",
      "Requirement already satisfied: fsspec>=2023.5.0 in d:\\python310\\lib\\site-packages (from huggingface-hub<1.0,>=0.16.4->tokenizers>=0.13.2->chromadb) (2024.6.1)\n",
      "Requirement already satisfied: zipp>=0.5 in d:\\python310\\lib\\site-packages (from importlib-metadata<=8.4.0,>=6.0->opentelemetry-api>=1.2.0->chromadb) (3.20.2)\n",
      "Requirement already satisfied: mdurl~=0.1 in d:\\python310\\lib\\site-packages (from markdown-it-py>=2.2.0->rich>=10.11.0->chromadb) (0.1.2)\n",
      "Requirement already satisfied: humanfriendly>=9.1 in d:\\python310\\lib\\site-packages (from coloredlogs->onnxruntime>=1.14.1->chromadb) (10.0)\n",
      "Requirement already satisfied: mpmath<1.4,>=1.1.0 in d:\\python310\\lib\\site-packages (from sympy->onnxruntime>=1.14.1->chromadb) (1.3.0)\n",
      "Requirement already satisfied: pyreadline3 in d:\\python310\\lib\\site-packages (from humanfriendly>=9.1->coloredlogs->onnxruntime>=1.14.1->chromadb) (3.5.4)\n",
      "Requirement already satisfied: pyasn1<0.7.0,>=0.4.6 in d:\\python310\\lib\\site-packages (from pyasn1-modules>=0.2.1->google-auth>=1.0.1->kubernetes>=28.1.0->chromadb) (0.6.1)\n",
      "Note: you may need to restart the kernel to use updated packages.\n"
     ]
    },
    {
     "name": "stderr",
     "output_type": "stream",
     "text": [
      "\n",
      "[notice] A new release of pip is available: 24.3.1 -> 25.0.1\n",
      "[notice] To update, run: python.exe -m pip install --upgrade pip\n"
     ]
    }
   ],
   "source": [
    "%pip install python-docx python-dotenv tiktoken chromadb openai"
   ]
  },
  {
   "cell_type": "markdown",
   "metadata": {},
   "source": [
    "# 2. Knowledge Base 구성을 위한 데이터 생성\n",
    "\n",
    "- LangChain의 TextSplitter를 사용할 수 없기 때문에 [python-docx](https://github.com/python-openxml/python-docx)와 [tiktoken](https://github.com/openai/tiktoken)을 활용해서 chunk 생성"
   ]
  },
  {
   "cell_type": "code",
   "execution_count": 2,
   "metadata": {},
   "outputs": [],
   "source": [
    "from docx import Document\n",
    "\n",
    "document = Document('./tax_docs/tax_with_table.docx')\n",
    "\n",
    "full_text = ''\n",
    "for index, paragraph in enumerate(document.paragraphs):\n",
    "    full_text += f'{paragraph.text}\\n'\n",
    "    "
   ]
  },
  {
   "cell_type": "code",
   "execution_count": 3,
   "metadata": {},
   "outputs": [],
   "source": [
    "import tiktoken \n",
    "\n",
    "def split_text(full_text, chunk_size):\n",
    "    encoder = tiktoken.encoding_for_model(\"gpt-4o\")\n",
    "    total_encoding = encoder.encode(full_text)\n",
    "    total_token_count = len(total_encoding)\n",
    "    text_list = []\n",
    "    for i in range(0, total_token_count, chunk_size):\n",
    "        chunk = total_encoding[i: i+chunk_size]\n",
    "        decoded = encoder.decode(chunk)\n",
    "        text_list.append(decoded)\n",
    "    \n",
    "    return text_list"
   ]
  },
  {
   "cell_type": "code",
   "execution_count": 4,
   "metadata": {},
   "outputs": [],
   "source": [
    "chunk_list = split_text(full_text, 1500)"
   ]
  },
  {
   "cell_type": "code",
   "execution_count": 5,
   "metadata": {},
   "outputs": [
    {
     "name": "stdout",
     "output_type": "stream",
     "text": [
      "Requirement already satisfied: chroma in d:\\python310\\lib\\site-packages (0.2.0)\n",
      "Note: you may need to restart the kernel to use updated packages.\n"
     ]
    },
    {
     "name": "stderr",
     "output_type": "stream",
     "text": [
      "\n",
      "[notice] A new release of pip is available: 24.3.1 -> 25.0.1\n",
      "[notice] To update, run: python.exe -m pip install --upgrade pip\n"
     ]
    }
   ],
   "source": [
    "%pip install chroma"
   ]
  },
  {
   "cell_type": "code",
   "execution_count": 6,
   "metadata": {},
   "outputs": [],
   "source": [
    "import chromadb\n",
    "\n",
    "chroma_client = chromadb.Client()"
   ]
  },
  {
   "cell_type": "code",
   "execution_count": 7,
   "metadata": {},
   "outputs": [],
   "source": [
    "collection_name = 'tax_collection'\n",
    "tax_collection = chroma_client.create_collection(collection_name)"
   ]
  },
  {
   "cell_type": "code",
   "execution_count": 8,
   "metadata": {},
   "outputs": [],
   "source": [
    "import os\n",
    "\n",
    "from dotenv import load_dotenv\n",
    "from chromadb.utils.embedding_functions import OpenAIEmbeddingFunction\n",
    "\n",
    "load_dotenv()\n",
    "openai_api_key = os.getenv('OPENAI_API_KEY')\n",
    "openai_embedding = OpenAIEmbeddingFunction(api_key=openai_api_key, model_name='text-embedding-3-large')"
   ]
  },
  {
   "cell_type": "code",
   "execution_count": 9,
   "metadata": {},
   "outputs": [],
   "source": [
    "tax_collection = chroma_client.get_or_create_collection(collection_name, embedding_function=openai_embedding)"
   ]
  },
  {
   "cell_type": "code",
   "execution_count": 10,
   "metadata": {},
   "outputs": [],
   "source": [
    "id_list = []\n",
    "for index in range(len(chunk_list)):\n",
    "    id_list.append(f'{index}')\n"
   ]
  },
  {
   "cell_type": "code",
   "execution_count": 11,
   "metadata": {},
   "outputs": [],
   "source": [
    "tax_collection.add(documents=chunk_list, ids=id_list)"
   ]
  },
  {
   "cell_type": "markdown",
   "metadata": {},
   "source": [
    "# 3. 답변 생성을 위한 Retrieval\n",
    "\n",
    "- `Chroma`에 저장한 데이터를 유사도 검색(`query`)를 활용해서 가져옴\n",
    "    - method이름은 `query`지만 유사도 검색 실행"
   ]
  },
  {
   "cell_type": "code",
   "execution_count": 12,
   "metadata": {},
   "outputs": [],
   "source": [
    "query = '연봉 5천만원인 직장인의 소득세는 얼마인가요?'\n",
    "retrieved_doc = tax_collection.query(query_texts=query, n_results=3)"
   ]
  },
  {
   "cell_type": "code",
   "execution_count": 13,
   "metadata": {},
   "outputs": [
    {
     "data": {
      "text/plain": [
       "{'ids': [['5', '31', '93']],\n",
       " 'embeddings': None,\n",
       " 'documents': [['우 및 지원에 관한 법률」 또는 「보훈보상대상자 지원에 관한 법률」에 따라 받는 보훈급여금ㆍ학습보조비 및 「북한이탈주민의 보호 및 정착지원에 관한 법률」에 따라 받는 정착금ㆍ보로금(報勞金)과 그 밖의 금품\\n나. 「국가보안법」에 따라 받는 상금과 보로금\\n다. 「상훈법」에 따른 훈장과 관련하여 받는 부상(副賞)이나 그 밖에 대통령령으로 정하는 상금과 부상\\n라. 종업원등 또는 대학의 교직원이 퇴직한 후에 사용자등 또는 산학협력단으로부터 지급받거나 대학의 학생이 소속 대학에 설치된 산학협력단으로부터 받는 직무발명보상금으로서 대통령령으로 정하는 금액. 다만, 직무발명보상금을 지급한 사용자등 또는 산학협력단과 대통령령으로 정하는 특수관계에 있는 자가 받는 직무발명보상금은 제외한다.\\n마. 「국군포로의 송환 및 대우 등에 관한 법률」에 따라 국군포로가 받는 위로지원금과 그 밖의 금품\\n바. 「문화재보호법」에 따라 국가지정문화재로 지정된 서화ㆍ골동품의 양도로 발생하는 소득\\n사. 서화ㆍ골동품을 박물관 또는 미술관에 양도함으로써 발생하는 소득\\n아. 제21조제1항제26호에 따른 종교인소득 중 다음의 어느 하나에 해당하는 소득\\n\\u3000\\u3000\\u3000\\u30001) 「통계법」 제22조에 따라 통계청장이 고시하는 한국표준직업분류에 따른 종교관련종사자(이하 “종교관련종사자”라 한다)가 받는 대통령령으로 정하는 학자금\\n\\u3000\\u3000\\u3000\\u30002) 종교관련종사자가 받는 대통령령으로 정하는 식사 또는 식사대\\n\\u3000\\u3000\\u3000\\u30003) 종교관련종사자가 받는 대통령령으로 정하는 실비변상적 성질의 지급액\\n\\u3000\\u3000\\u3000\\u30004) 종교관련종사자 또는 그 배우자의 출산이나 6세 이하(해당 과세기간 개시일을 기준으로 판단한다) 자녀의 보육과 관련하여 종교단체로부터 받는 금액으로서 월 20만원 이내의 금액\\n\\u3000\\u3000\\u3000\\u30005) 종교관련종사자가 기획재정부령으로 정하는 사택을 제공받아 얻는 이익\\n자. 법령ㆍ조례에 따른 위원회 등의 보수를 받지 아니하는 위원(학술원 및 예술원의 회원을 포함한다) 등이 받는 수당\\n[전문개정 2009. 12. 31.]\\n\\n제12조(비과세소득) 다음 각 호의 소득에 대해서는 소득세를 과세하지 아니한다. <개정 2010. 12. 27., 2011. 7. 25., 2011. 9. 15., 2012. 2. 1., 2013. 1. 1., 2013. 3. 22., 2014. 1. 1., 2014. 3. 18., 2014. 12. 23., 2015. 12. 15., 2016. 12. 20., 2018. 3. 20., 2018. 12. 31., 2019. 12. 10., 2019. 12. 31., 2020. 6. 9., 2020. 12. 29., 2022. 8. 12., 2022. 12. 31., 2023. 8. 8., 2023. 12. 31.>\\n1. 「공익신탁법」에 따른 공익신탁의 이익\\n2. 사업소득 중 다음 각 목의 어느 하나에 해당하는 소득\\n가. 논ㆍ밭을 작물 생산에 이용하게 함으로써 발생하는 소득\\n나. 1개의 주택을 소유하는 자의 주택임대소득(제99조에 따른 기준시가가 12억원을 초과하는 주택 및 국외에 소재하는 주택의 임대소득은 제외한다) 또는 해당 과세기간에 대통령령으로 정하는 총수입금액의 합계액이 2천만원 이하인 자의 주택임대소득(2018년 12월 31일 이전에 끝나는 과세기간까지 발생하는 소득으로 한정한다). 이 경우 주택 수의 계산 및 주택임대소득의 산정 등 필요한 사항은 대통령령으로 정한다.\\n다. 대통령령으로 정하는 농어가부업소득\\n라. 대통령령으로 정하는 전통주의 제조에서 발생하는 소득\\n마. 조림기간 5년 이상인 임지(林地)의 임목(林木)의 벌채 또는 양도로 발생하는 소득으로서 연 600만원 이하의 금액. 이 경우 조림기간 및 세액의 계산 등 필요한 사항은 대통령령으로 정한다.\\n바. 대통령령으로 정하는 작물재배업에서 발생하는 소득\\n사. 대통령령으로 정하는 어로어업 또는 양식어업에서 발생하는 소득\\n3. 근로소득과 퇴직소득 중 다음 각 목의 어느 하나에 해당하는 소득\\n가. 대통령령으로 정하는 복무 중인 병(兵)이 받는 급여\\n나. 법률에 따라 동원된 사람이 그 동원 직장에서 받는 급여\\n다. 「산업재해보상보험법」에 따라 수급권자가 받는 요양급여, 휴업급여, 장해급여, 간병급여, 유족급여, 유족특별급여, 장해특별급여, 장의비 또는 근로의 제공으로 인한 부상ㆍ질병ㆍ사망과 관련하여 근로자나 그 유족이 받는 배상ㆍ보상 또는 위자(慰藉)의 성질이 있는 급여\\n라. 「근로기준법」 또는 「선원법」에 따라 근로자ㆍ선원 및 그 유족이 받는 요양보상금, 휴업보상금, 상병보상금(傷病補償金), 일시보상금, 장해보상금, 유족보상금, 행방불명보상금, 소지품 유실보상금, 장의비 및',\n",
       "   '에 따른 간접투자회사등으로부터 지급받은 소득의 계산방법, 그 밖에 세액공제에 필요한 사항은 대통령령으로 정한다.\\n[본조신설 2022. 12. 31.]\\n[시행일: 2025. 1. 1.]  제57조의2\\n\\n제58조(재해손실세액공제) ① 사업자가 해당 과세기간에 천재지변이나 그 밖의 재해(이하 “재해”라 한다)로 대통령령으로 정하는 자산총액(이하 이 항에서 “자산총액”이라 한다)의 100분의 20 이상에 해당하는 자산을 상실하여 납세가 곤란하다고 인정되는 경우에는 다음 각 호의 소득세액(사업소득에 대한 소득세액을 말한다. 이하 이 조에서 같다)에 그 상실된 가액이 상실 전의 자산총액에서 차지하는 비율(이하 이 조에서 “자산상실비율”이라 한다)을 곱하여 계산한 금액(상실된 자산의 가액을 한도로 한다)을 그 세액에서 공제한다. 이 경우 자산의 가액에는 토지의 가액을 포함하지 아니한다. <개정 2020. 12. 29.>\\n1. 재해 발생일 현재 부과되지 아니한 소득세와 부과된 소득세로서 미납된 소득세액\\n2. 재해 발생일이 속하는 과세기간의 소득에 대한 소득세액\\n② 제1항의 경우에 제56조ㆍ제56조의2 및 제57조에 따라 공제할 세액이 있을 때에는 이를 공제한 후의 세액을 소득세액으로 하여 제1항을 적용한다.\\n③ 제1항에 따른 공제를 “재해손실세액공제”라 한다.\\n④ 재해손실세액공제를 적용받으려는 자는 대통령령으로 정하는 바에 따라 관할 세무서장에게 신청할 수 있다.\\n⑤ 관할 세무서장이 제4항의 신청을 받았을 때에는 그 공제할 세액을 결정하여 신청인에게 알려야 한다.\\n⑥ 제4항의 신청이 없는 경우에도 제1항을 적용한다.\\n⑦ 집단적으로 재해가 발생한 경우에는 대통령령으로 정하는 바에 따라 관할 세무서장이 조사결정한 자산상실비율에 따라 제1항을 적용한다.\\n⑧ 재해손실세액공제에 관하여 필요한 사항은 대통령령으로 정한다.\\n[전문개정 2009. 12. 31.]\\n\\n제58조(재해손실세액공제) ① 사업자가 해당 과세기간에 천재지변이나 그 밖의 재해(이하 “재해”라 한다)로 대통령령으로 정하는 자산총액(이하 이 항에서 “자산총액”이라 한다)의 100분의 20 이상에 해당하는 자산을 상실하여 납세가 곤란하다고 인정되는 경우에는 다음 각 호의 소득세액(사업소득에 대한 소득세액을 말한다. 이하 이 조에서 같다)에 그 상실된 가액이 상실 전의 자산총액에서 차지하는 비율(이하 이 조에서 “자산상실비율”이라 한다)을 곱하여 계산한 금액(상실된 자산의 가액을 한도로 한다)을 그 세액에서 공제한다. 이 경우 자산의 가액에는 토지의 가액을 포함하지 아니한다. <개정 2020. 12. 29.>\\n1. 재해 발생일 현재 부과되지 아니한 소득세와 부과된 소득세로서 미납된 소득세액\\n2. 재해 발생일이 속하는 과세기간의 소득에 대한 소득세액\\n② 제1항의 경우에 제56조, 제56조의2, 제57조 및 제57조의2에 따라 공제할 세액이 있을 때에는 이를 공제한 후의 세액을 소득세액으로 하여 제1항을 적용한다.<개정 2022. 12. 31.>\\n③ 제1항에 따른 공제를 “재해손실세액공제”라 한다.\\n④ 재해손실세액공제를 적용받으려는 자는 대통령령으로 정하는 바에 따라 관할 세무서장에게 신청할 수 있다.\\n⑤ 관할 세무서장이 제4항의 신청을 받았을 때에는 그 공제할 세액을 결정하여 신청인에게 알려야 한다.\\n⑥ 제4항의 신청이 없는 경우에도 제1항을 적용한다.\\n⑦ 집단적으로 재해가 발생한 경우에는 대통령령으로 정하는 바에 따라 관할 세무서장이 조사결정한 자산상실비율에 따라 제1항을 적용한다.\\n⑧ 재해손실세액공제에 관하여 필요한 사항은 대통령령으로 정한다.\\n[전문개정 2009. 12. 31.]\\n[시행일: 2025. 1. 1.]  제58조제2항\\n\\n제59조(근로소득세액공제) ①근로소득이 있는 거주자에 대해서는 그 근로소득에 대한 종합소득산출세액에서 다음의 금액을 공제한다. <개정 2014. 1. 1., 2015. 5. 13.>\\n\\n② 제1항에도 불구하고 공제세액이 다음 각 호의 구분에 따른 금액을 초과하는 경우에 그 초과하는 금액은 없는 것으로 한다.<신설 2014. 1. 1., 2015. 5. 13., 2022. 12. 31.>\\n1. 총급여액이 3천 300만원 이하인 경우: 74만원\\n2. 총급여액이 3천 300만원 초과 7천만원 이하인 경우: 74만원 - [(총급여액 - 3천 300만원) × 8/1000]. 다만, 위 금액이 66만원보다 적은 경우에는 66만원으로 한다.\\n3. 총급여액이 7천만원 초과 1억2천만원 이하인 경우: 66만원 - [(총급여액 - 7천만원) × 1/2]. 다만, 위 금액이 50만원보다 적은 경우에는 50만원으로 한다.\\n4. 총급여액이 1억2천만원을 초과하는 경우: 50만원 - [(총급여액 - 1억2천만원)',\n",
       "   ' 제126조의12\\n\\n제5장 원천징수 <개정 2009. 12. 31.>\\n\\n제1절 원천징수 <개정 2009. 12. 31.>\\n\\n제1관 원천징수의무자와 징수ㆍ납부 <개정 2009. 12. 31.>\\n\\n제127조(원천징수의무) ① 국내에서 거주자나 비거주자에게 다음 각 호의 어느 하나에 해당하는 소득을 지급하는 자(제3호의 소득을 지급하는 자의 경우에는 사업자 등 대통령령으로 정하는 자로 한정한다)는 이 절의 규정에 따라 그 거주자나 비거주자에 대한 소득세를 원천징수하여야 한다. <개정 2009. 12. 31., 2010. 12. 27., 2015. 12. 15.>\\n1. 이자소득\\n2. 배당소득\\n3. 대통령령으로 정하는 사업소득(이하 “원천징수대상 사업소득”이라 한다)\\n4. 근로소득. 다만, 다음 각 목의 어느 하나에 해당하는 소득은 제외한다.\\n가. 외국기관 또는 우리나라에 주둔하는 국제연합군(미군은 제외한다)으로부터 받는 근로소득\\n나. 국외에 있는 비거주자 또는 외국법인(국내지점 또는 국내영업소는 제외한다)으로부터 받는 근로소득. 다만, 다음의 어느 하나에 해당하는 소득은 제외한다.\\n\\u3000\\u3000\\u30001) 제120조제1항 및 제2항에 따른 비거주자의 국내사업장과 「법인세법」 제94조제1항 및 제2항에 따른 외국법인의 국내사업장의 국내원천소득금액을 계산할 때 필요경비 또는 손금으로 계상되는 소득\\n\\u3000\\u3000\\u30002) 국외에 있는 외국법인(국내지점 또는 국내영업소는 제외한다)으로부터 받는 근로소득 중 제156조의7에 따라 소득세가 원천징수되는 파견근로자의 소득\\n5. 연금소득\\n6. 기타소득. 다만, 다음 각 목의 어느 하나에 해당하는 소득은 제외한다.\\n가. 제8호에 따른 소득\\n나. 제21조제1항제10호에 따른 위약금ㆍ배상금(계약금이 위약금ㆍ배상금으로 대체되는 경우만 해당한다)\\n다. 제21조제1항제23호 또는 제24호에 따른 소득\\n7. 퇴직소득. 다만, 제4호 각 목의 어느 하나에 해당하는 근로소득이 있는 사람이 퇴직함으로써 받는 소득은 제외한다.\\n8. 대통령령으로 정하는 봉사료\\n② 제1항에 따른 원천징수를 하여야 할 자(제1항제3호에 따른 소득의 경우에는 사업자 등 대통령령으로 정하는 자로 한정한다)를 대리하거나 그 위임을 받은 자의 행위는 수권(授權) 또는 위임의 범위에서 본인 또는 위임인의 행위로 보아 제1항을 적용한다.<개정 2009. 12. 31., 2010. 12. 27.>\\n③ 금융회사등이 내국인이 발행한 어음, 채무증서, 주식 또는 집합투자증권(이하 이 조에서 “어음등”이라 한다)을 인수ㆍ매매ㆍ중개 또는 대리하는 경우에는 그 금융회사등과 해당 어음등을 발행한 자 간에 대리 또는 위임의 관계가 있는 것으로 보아 제2항을 적용한다.<개정 2010. 12. 27.>\\n④ 「자본시장과 금융투자업에 관한 법률」에 따른 신탁업자가 신탁재산을 운용하거나 보관ㆍ관리하는 경우에는 해당 신탁업자와 해당 신탁재산에 귀속되는 소득을 지급하는 자 간에 원천징수의무의 대리 또는 위임의 관계가 있는 것으로 보아 제2항을 적용한다.<개정 2010. 12. 27.>\\n⑤ 외국법인이 발행한 채권 또는 증권에서 발생하는 제1항제1호 및 제2호의 소득을 거주자에게 지급하는 경우에는 국내에서 그 지급을 대리하거나 그 지급 권한을 위임 또는 위탁받은 자가 그 소득에 대한 소득세를 원천징수하여야 한다.<개정 2009. 12. 31., 2010. 12. 27.>\\n⑥ 사업자(법인을 포함한다. 이하 이 항에서 같다)가 음식ㆍ숙박용역이나 서비스용역을 공급하고 그 대가를 받을 때 제1항제8호에 따른 봉사료를 함께 받아 해당 소득자에게 지급하는 경우에는 그 사업자가 그 봉사료에 대한 소득세를 원천징수하여야 한다.<개정 2009. 12. 31., 2010. 12. 27.>\\n⑦ 제1항부터 제6항까지의 규정에 따라 원천징수를 하여야 할 자를 “원천징수의무자”라 한다.<개정 2010. 12. 27.>\\n⑧ 원천징수의무자의 범위 등 그 밖에 필요한 사항은 대통령령으로 정한다.<신설 2013. 1. 1.>\\n[제목개정 2009. 12. 31.]\\n\\n제127조(원천징수의무) ① 국내에서 거주자나 비거주자에게 다음 각 호의 어느 하나에 해당하는 소득을 지급하는 자(제3호 또는 제9호의 소득을 지급하는 자의 경우에는 사업자 등 대통령령으로 정하는 자로 한정한다)는 이 절의 규정에 따라 그 거주자나 비거주자에 대한 소득세를 원천징수하여야 한다. <개정 2009. 12. 31., 2010. 12. 27., 2015. 12. 15., 2020. 12. 29.>\\n1. 이자소득\\n2. 배당소득\\n3. 대통령령으로 정하는 사업소득(이하 “원천징수대상 사업소득”이라 한다)\\n4. 근로소득. 다만, 다음 각 목의 어느 하나에 해당하는 소득은 제외한다.\\n가. 외국기관 또는 우리나라에 주둔하는 국제연합군(미군은 제외']],\n",
       " 'uris': None,\n",
       " 'data': None,\n",
       " 'metadatas': [[None, None, None]],\n",
       " 'distances': [[1.1415214538574219, 1.149887204170227, 1.1538474559783936]],\n",
       " 'included': [<IncludeEnum.distances: 'distances'>,\n",
       "  <IncludeEnum.documents: 'documents'>,\n",
       "  <IncludeEnum.metadatas: 'metadatas'>]}"
      ]
     },
     "execution_count": 13,
     "metadata": {},
     "output_type": "execute_result"
    }
   ],
   "source": [
    "retrieved_doc"
   ]
  },
  {
   "cell_type": "code",
   "execution_count": 14,
   "metadata": {},
   "outputs": [
    {
     "data": {
      "text/plain": [
       "['우 및 지원에 관한 법률」 또는 「보훈보상대상자 지원에 관한 법률」에 따라 받는 보훈급여금ㆍ학습보조비 및 「북한이탈주민의 보호 및 정착지원에 관한 법률」에 따라 받는 정착금ㆍ보로금(報勞金)과 그 밖의 금품\\n나. 「국가보안법」에 따라 받는 상금과 보로금\\n다. 「상훈법」에 따른 훈장과 관련하여 받는 부상(副賞)이나 그 밖에 대통령령으로 정하는 상금과 부상\\n라. 종업원등 또는 대학의 교직원이 퇴직한 후에 사용자등 또는 산학협력단으로부터 지급받거나 대학의 학생이 소속 대학에 설치된 산학협력단으로부터 받는 직무발명보상금으로서 대통령령으로 정하는 금액. 다만, 직무발명보상금을 지급한 사용자등 또는 산학협력단과 대통령령으로 정하는 특수관계에 있는 자가 받는 직무발명보상금은 제외한다.\\n마. 「국군포로의 송환 및 대우 등에 관한 법률」에 따라 국군포로가 받는 위로지원금과 그 밖의 금품\\n바. 「문화재보호법」에 따라 국가지정문화재로 지정된 서화ㆍ골동품의 양도로 발생하는 소득\\n사. 서화ㆍ골동품을 박물관 또는 미술관에 양도함으로써 발생하는 소득\\n아. 제21조제1항제26호에 따른 종교인소득 중 다음의 어느 하나에 해당하는 소득\\n\\u3000\\u3000\\u3000\\u30001) 「통계법」 제22조에 따라 통계청장이 고시하는 한국표준직업분류에 따른 종교관련종사자(이하 “종교관련종사자”라 한다)가 받는 대통령령으로 정하는 학자금\\n\\u3000\\u3000\\u3000\\u30002) 종교관련종사자가 받는 대통령령으로 정하는 식사 또는 식사대\\n\\u3000\\u3000\\u3000\\u30003) 종교관련종사자가 받는 대통령령으로 정하는 실비변상적 성질의 지급액\\n\\u3000\\u3000\\u3000\\u30004) 종교관련종사자 또는 그 배우자의 출산이나 6세 이하(해당 과세기간 개시일을 기준으로 판단한다) 자녀의 보육과 관련하여 종교단체로부터 받는 금액으로서 월 20만원 이내의 금액\\n\\u3000\\u3000\\u3000\\u30005) 종교관련종사자가 기획재정부령으로 정하는 사택을 제공받아 얻는 이익\\n자. 법령ㆍ조례에 따른 위원회 등의 보수를 받지 아니하는 위원(학술원 및 예술원의 회원을 포함한다) 등이 받는 수당\\n[전문개정 2009. 12. 31.]\\n\\n제12조(비과세소득) 다음 각 호의 소득에 대해서는 소득세를 과세하지 아니한다. <개정 2010. 12. 27., 2011. 7. 25., 2011. 9. 15., 2012. 2. 1., 2013. 1. 1., 2013. 3. 22., 2014. 1. 1., 2014. 3. 18., 2014. 12. 23., 2015. 12. 15., 2016. 12. 20., 2018. 3. 20., 2018. 12. 31., 2019. 12. 10., 2019. 12. 31., 2020. 6. 9., 2020. 12. 29., 2022. 8. 12., 2022. 12. 31., 2023. 8. 8., 2023. 12. 31.>\\n1. 「공익신탁법」에 따른 공익신탁의 이익\\n2. 사업소득 중 다음 각 목의 어느 하나에 해당하는 소득\\n가. 논ㆍ밭을 작물 생산에 이용하게 함으로써 발생하는 소득\\n나. 1개의 주택을 소유하는 자의 주택임대소득(제99조에 따른 기준시가가 12억원을 초과하는 주택 및 국외에 소재하는 주택의 임대소득은 제외한다) 또는 해당 과세기간에 대통령령으로 정하는 총수입금액의 합계액이 2천만원 이하인 자의 주택임대소득(2018년 12월 31일 이전에 끝나는 과세기간까지 발생하는 소득으로 한정한다). 이 경우 주택 수의 계산 및 주택임대소득의 산정 등 필요한 사항은 대통령령으로 정한다.\\n다. 대통령령으로 정하는 농어가부업소득\\n라. 대통령령으로 정하는 전통주의 제조에서 발생하는 소득\\n마. 조림기간 5년 이상인 임지(林地)의 임목(林木)의 벌채 또는 양도로 발생하는 소득으로서 연 600만원 이하의 금액. 이 경우 조림기간 및 세액의 계산 등 필요한 사항은 대통령령으로 정한다.\\n바. 대통령령으로 정하는 작물재배업에서 발생하는 소득\\n사. 대통령령으로 정하는 어로어업 또는 양식어업에서 발생하는 소득\\n3. 근로소득과 퇴직소득 중 다음 각 목의 어느 하나에 해당하는 소득\\n가. 대통령령으로 정하는 복무 중인 병(兵)이 받는 급여\\n나. 법률에 따라 동원된 사람이 그 동원 직장에서 받는 급여\\n다. 「산업재해보상보험법」에 따라 수급권자가 받는 요양급여, 휴업급여, 장해급여, 간병급여, 유족급여, 유족특별급여, 장해특별급여, 장의비 또는 근로의 제공으로 인한 부상ㆍ질병ㆍ사망과 관련하여 근로자나 그 유족이 받는 배상ㆍ보상 또는 위자(慰藉)의 성질이 있는 급여\\n라. 「근로기준법」 또는 「선원법」에 따라 근로자ㆍ선원 및 그 유족이 받는 요양보상금, 휴업보상금, 상병보상금(傷病補償金), 일시보상금, 장해보상금, 유족보상금, 행방불명보상금, 소지품 유실보상금, 장의비 및',\n",
       " '에 따른 간접투자회사등으로부터 지급받은 소득의 계산방법, 그 밖에 세액공제에 필요한 사항은 대통령령으로 정한다.\\n[본조신설 2022. 12. 31.]\\n[시행일: 2025. 1. 1.]  제57조의2\\n\\n제58조(재해손실세액공제) ① 사업자가 해당 과세기간에 천재지변이나 그 밖의 재해(이하 “재해”라 한다)로 대통령령으로 정하는 자산총액(이하 이 항에서 “자산총액”이라 한다)의 100분의 20 이상에 해당하는 자산을 상실하여 납세가 곤란하다고 인정되는 경우에는 다음 각 호의 소득세액(사업소득에 대한 소득세액을 말한다. 이하 이 조에서 같다)에 그 상실된 가액이 상실 전의 자산총액에서 차지하는 비율(이하 이 조에서 “자산상실비율”이라 한다)을 곱하여 계산한 금액(상실된 자산의 가액을 한도로 한다)을 그 세액에서 공제한다. 이 경우 자산의 가액에는 토지의 가액을 포함하지 아니한다. <개정 2020. 12. 29.>\\n1. 재해 발생일 현재 부과되지 아니한 소득세와 부과된 소득세로서 미납된 소득세액\\n2. 재해 발생일이 속하는 과세기간의 소득에 대한 소득세액\\n② 제1항의 경우에 제56조ㆍ제56조의2 및 제57조에 따라 공제할 세액이 있을 때에는 이를 공제한 후의 세액을 소득세액으로 하여 제1항을 적용한다.\\n③ 제1항에 따른 공제를 “재해손실세액공제”라 한다.\\n④ 재해손실세액공제를 적용받으려는 자는 대통령령으로 정하는 바에 따라 관할 세무서장에게 신청할 수 있다.\\n⑤ 관할 세무서장이 제4항의 신청을 받았을 때에는 그 공제할 세액을 결정하여 신청인에게 알려야 한다.\\n⑥ 제4항의 신청이 없는 경우에도 제1항을 적용한다.\\n⑦ 집단적으로 재해가 발생한 경우에는 대통령령으로 정하는 바에 따라 관할 세무서장이 조사결정한 자산상실비율에 따라 제1항을 적용한다.\\n⑧ 재해손실세액공제에 관하여 필요한 사항은 대통령령으로 정한다.\\n[전문개정 2009. 12. 31.]\\n\\n제58조(재해손실세액공제) ① 사업자가 해당 과세기간에 천재지변이나 그 밖의 재해(이하 “재해”라 한다)로 대통령령으로 정하는 자산총액(이하 이 항에서 “자산총액”이라 한다)의 100분의 20 이상에 해당하는 자산을 상실하여 납세가 곤란하다고 인정되는 경우에는 다음 각 호의 소득세액(사업소득에 대한 소득세액을 말한다. 이하 이 조에서 같다)에 그 상실된 가액이 상실 전의 자산총액에서 차지하는 비율(이하 이 조에서 “자산상실비율”이라 한다)을 곱하여 계산한 금액(상실된 자산의 가액을 한도로 한다)을 그 세액에서 공제한다. 이 경우 자산의 가액에는 토지의 가액을 포함하지 아니한다. <개정 2020. 12. 29.>\\n1. 재해 발생일 현재 부과되지 아니한 소득세와 부과된 소득세로서 미납된 소득세액\\n2. 재해 발생일이 속하는 과세기간의 소득에 대한 소득세액\\n② 제1항의 경우에 제56조, 제56조의2, 제57조 및 제57조의2에 따라 공제할 세액이 있을 때에는 이를 공제한 후의 세액을 소득세액으로 하여 제1항을 적용한다.<개정 2022. 12. 31.>\\n③ 제1항에 따른 공제를 “재해손실세액공제”라 한다.\\n④ 재해손실세액공제를 적용받으려는 자는 대통령령으로 정하는 바에 따라 관할 세무서장에게 신청할 수 있다.\\n⑤ 관할 세무서장이 제4항의 신청을 받았을 때에는 그 공제할 세액을 결정하여 신청인에게 알려야 한다.\\n⑥ 제4항의 신청이 없는 경우에도 제1항을 적용한다.\\n⑦ 집단적으로 재해가 발생한 경우에는 대통령령으로 정하는 바에 따라 관할 세무서장이 조사결정한 자산상실비율에 따라 제1항을 적용한다.\\n⑧ 재해손실세액공제에 관하여 필요한 사항은 대통령령으로 정한다.\\n[전문개정 2009. 12. 31.]\\n[시행일: 2025. 1. 1.]  제58조제2항\\n\\n제59조(근로소득세액공제) ①근로소득이 있는 거주자에 대해서는 그 근로소득에 대한 종합소득산출세액에서 다음의 금액을 공제한다. <개정 2014. 1. 1., 2015. 5. 13.>\\n\\n② 제1항에도 불구하고 공제세액이 다음 각 호의 구분에 따른 금액을 초과하는 경우에 그 초과하는 금액은 없는 것으로 한다.<신설 2014. 1. 1., 2015. 5. 13., 2022. 12. 31.>\\n1. 총급여액이 3천 300만원 이하인 경우: 74만원\\n2. 총급여액이 3천 300만원 초과 7천만원 이하인 경우: 74만원 - [(총급여액 - 3천 300만원) × 8/1000]. 다만, 위 금액이 66만원보다 적은 경우에는 66만원으로 한다.\\n3. 총급여액이 7천만원 초과 1억2천만원 이하인 경우: 66만원 - [(총급여액 - 7천만원) × 1/2]. 다만, 위 금액이 50만원보다 적은 경우에는 50만원으로 한다.\\n4. 총급여액이 1억2천만원을 초과하는 경우: 50만원 - [(총급여액 - 1억2천만원)',\n",
       " ' 제126조의12\\n\\n제5장 원천징수 <개정 2009. 12. 31.>\\n\\n제1절 원천징수 <개정 2009. 12. 31.>\\n\\n제1관 원천징수의무자와 징수ㆍ납부 <개정 2009. 12. 31.>\\n\\n제127조(원천징수의무) ① 국내에서 거주자나 비거주자에게 다음 각 호의 어느 하나에 해당하는 소득을 지급하는 자(제3호의 소득을 지급하는 자의 경우에는 사업자 등 대통령령으로 정하는 자로 한정한다)는 이 절의 규정에 따라 그 거주자나 비거주자에 대한 소득세를 원천징수하여야 한다. <개정 2009. 12. 31., 2010. 12. 27., 2015. 12. 15.>\\n1. 이자소득\\n2. 배당소득\\n3. 대통령령으로 정하는 사업소득(이하 “원천징수대상 사업소득”이라 한다)\\n4. 근로소득. 다만, 다음 각 목의 어느 하나에 해당하는 소득은 제외한다.\\n가. 외국기관 또는 우리나라에 주둔하는 국제연합군(미군은 제외한다)으로부터 받는 근로소득\\n나. 국외에 있는 비거주자 또는 외국법인(국내지점 또는 국내영업소는 제외한다)으로부터 받는 근로소득. 다만, 다음의 어느 하나에 해당하는 소득은 제외한다.\\n\\u3000\\u3000\\u30001) 제120조제1항 및 제2항에 따른 비거주자의 국내사업장과 「법인세법」 제94조제1항 및 제2항에 따른 외국법인의 국내사업장의 국내원천소득금액을 계산할 때 필요경비 또는 손금으로 계상되는 소득\\n\\u3000\\u3000\\u30002) 국외에 있는 외국법인(국내지점 또는 국내영업소는 제외한다)으로부터 받는 근로소득 중 제156조의7에 따라 소득세가 원천징수되는 파견근로자의 소득\\n5. 연금소득\\n6. 기타소득. 다만, 다음 각 목의 어느 하나에 해당하는 소득은 제외한다.\\n가. 제8호에 따른 소득\\n나. 제21조제1항제10호에 따른 위약금ㆍ배상금(계약금이 위약금ㆍ배상금으로 대체되는 경우만 해당한다)\\n다. 제21조제1항제23호 또는 제24호에 따른 소득\\n7. 퇴직소득. 다만, 제4호 각 목의 어느 하나에 해당하는 근로소득이 있는 사람이 퇴직함으로써 받는 소득은 제외한다.\\n8. 대통령령으로 정하는 봉사료\\n② 제1항에 따른 원천징수를 하여야 할 자(제1항제3호에 따른 소득의 경우에는 사업자 등 대통령령으로 정하는 자로 한정한다)를 대리하거나 그 위임을 받은 자의 행위는 수권(授權) 또는 위임의 범위에서 본인 또는 위임인의 행위로 보아 제1항을 적용한다.<개정 2009. 12. 31., 2010. 12. 27.>\\n③ 금융회사등이 내국인이 발행한 어음, 채무증서, 주식 또는 집합투자증권(이하 이 조에서 “어음등”이라 한다)을 인수ㆍ매매ㆍ중개 또는 대리하는 경우에는 그 금융회사등과 해당 어음등을 발행한 자 간에 대리 또는 위임의 관계가 있는 것으로 보아 제2항을 적용한다.<개정 2010. 12. 27.>\\n④ 「자본시장과 금융투자업에 관한 법률」에 따른 신탁업자가 신탁재산을 운용하거나 보관ㆍ관리하는 경우에는 해당 신탁업자와 해당 신탁재산에 귀속되는 소득을 지급하는 자 간에 원천징수의무의 대리 또는 위임의 관계가 있는 것으로 보아 제2항을 적용한다.<개정 2010. 12. 27.>\\n⑤ 외국법인이 발행한 채권 또는 증권에서 발생하는 제1항제1호 및 제2호의 소득을 거주자에게 지급하는 경우에는 국내에서 그 지급을 대리하거나 그 지급 권한을 위임 또는 위탁받은 자가 그 소득에 대한 소득세를 원천징수하여야 한다.<개정 2009. 12. 31., 2010. 12. 27.>\\n⑥ 사업자(법인을 포함한다. 이하 이 항에서 같다)가 음식ㆍ숙박용역이나 서비스용역을 공급하고 그 대가를 받을 때 제1항제8호에 따른 봉사료를 함께 받아 해당 소득자에게 지급하는 경우에는 그 사업자가 그 봉사료에 대한 소득세를 원천징수하여야 한다.<개정 2009. 12. 31., 2010. 12. 27.>\\n⑦ 제1항부터 제6항까지의 규정에 따라 원천징수를 하여야 할 자를 “원천징수의무자”라 한다.<개정 2010. 12. 27.>\\n⑧ 원천징수의무자의 범위 등 그 밖에 필요한 사항은 대통령령으로 정한다.<신설 2013. 1. 1.>\\n[제목개정 2009. 12. 31.]\\n\\n제127조(원천징수의무) ① 국내에서 거주자나 비거주자에게 다음 각 호의 어느 하나에 해당하는 소득을 지급하는 자(제3호 또는 제9호의 소득을 지급하는 자의 경우에는 사업자 등 대통령령으로 정하는 자로 한정한다)는 이 절의 규정에 따라 그 거주자나 비거주자에 대한 소득세를 원천징수하여야 한다. <개정 2009. 12. 31., 2010. 12. 27., 2015. 12. 15., 2020. 12. 29.>\\n1. 이자소득\\n2. 배당소득\\n3. 대통령령으로 정하는 사업소득(이하 “원천징수대상 사업소득”이라 한다)\\n4. 근로소득. 다만, 다음 각 목의 어느 하나에 해당하는 소득은 제외한다.\\n가. 외국기관 또는 우리나라에 주둔하는 국제연합군(미군은 제외']"
      ]
     },
     "execution_count": 14,
     "metadata": {},
     "output_type": "execute_result"
    }
   ],
   "source": [
    "retrieved_doc['documents'][0]"
   ]
  },
  {
   "cell_type": "markdown",
   "metadata": {},
   "source": [
    "# 4. Augmentation을 위한 Prompt 활용 및 답변 생성\n",
    "\n",
    "- Retrieval된 데이터는 system prompt에 추가해서 LLM의 배경지식으로 활용\n",
    "- Large Language Model은 사용자 질문에 대해 system prompt에 있는 배경지식을 활용하여 답변 생성"
   ]
  },
  {
   "cell_type": "code",
   "execution_count": 15,
   "metadata": {},
   "outputs": [],
   "source": [
    "from openai import OpenAI\n",
    "client = OpenAI()\n",
    "\n",
    "response = client.chat.completions.create(\n",
    "  model=\"gpt-4o\",\n",
    "  messages=[\n",
    "    {\"role\": \"system\", \"content\": f\"당신은 한국의 소득세 전문가 입니다. 아래 내용을 참고해서 사용자의 질문에 답변해주세요 {retrieved_doc['documents'][0]}\"},\n",
    "    {\"role\": \"user\", \"content\": query}\n",
    "  ]\n",
    ")"
   ]
  },
  {
   "cell_type": "code",
   "execution_count": 16,
   "metadata": {},
   "outputs": [
    {
     "data": {
      "text/plain": [
       "ChatCompletion(id='chatcmpl-BC9GwB25xbVwaCbw1WoIDAdpkLz1H', choices=[Choice(finish_reason='stop', index=0, logprobs=None, message=ChatCompletionMessage(content='연봉 5천만원인 직장인의 소득세를 계산하기 위해서는 소득세법에 따른 세율을 적용해야 하며, 기본적으로는 다음 단계로 계산합니다:\\n\\n1. **과세표준 계산**: 연봉에서 비과세 소득, 공제액(근로소득공제 등)을 차감하여 과세표준을 계산합니다.\\n\\n2. **세율 적용**: 과세표준에 대해 해당하는 구간의 세율을 적용하여 산출세액을 계산합니다. 대한민국의 경우, 과세표준 구간에 따라 차등 세율이 적용됩니다.\\n\\n3. **세액공제**: 산출세액에서 다양한 세액공제 항목(근로소득세액공제 등)을 적용하여 최종 소득세를 계산합니다.\\n\\n여기에서는 대략적인 계산을 통해 간단히 설명드리겠습니다. 실제 상황에 따라 계산이 달라질 수 있습니다.\\n\\n1. **근로소득공제**: 연봉 5천만원에 대해 근로소득공제를 적용하면, 대략 1,100만원 정도가 공제될 수 있습니다(정확한 금액은 법률에 따라 다름).\\n\\n2. **과세표준**: 5천만원 - 1,100만원 = 3,900만원\\n\\n3. **세율 적용**: 과세표준 3,900만원에 대해 2023년 기준으로 일반적인 세율을 적용하면:\\n   - 1,200만원 이하: 6%\\n   - 1,200만원 초과 4,600만원 이하: 15%\\n\\n   이 구간에 해당하는 부분에 대해 세율을 적용합니다. 산출세액을 계산하면 다음과 같습니다:\\n   - 1,200만원 x 6% = 72만원\\n   - (3,900만원 - 1,200만원) x 15% = 405만원\\n\\n   총 산출세액: 72만원 + 405만원 = 477만원\\n\\n4. **근로소득세액공제 및 기타 공제**: 기본적인 근로소득세액공제 등을 적용하면, 약 74만원 공제가 가능합니다.\\n\\n5. **최종 소득세**: 477만원 - 74만원 = 403만원\\n\\n따라서, 연봉 5천만원인 직장인의 대략적인 소득세는 약 403만원이 될 수 있습니다. 다만, 이는 기본적인 개념 설명을 위한 계산이며, 실제로는 다양한 소득공제 및 세액공제 항목이 추가적으로 적용될 수 있으므로, 정확한 금액 계산을 위해서는 세무 전문가와 상담하거나 소득세 계산기를 사용하는 것이 좋습니다.', refusal=None, role='assistant', function_call=None, tool_calls=None, annotations=[]))], created=1742235278, model='gpt-4o-2024-08-06', object='chat.completion', service_tier='default', system_fingerprint='fp_eb9dce56a8', usage=CompletionUsage(completion_tokens=592, prompt_tokens=4678, total_tokens=5270, completion_tokens_details=CompletionTokensDetails(reasoning_tokens=0, audio_tokens=0, accepted_prediction_tokens=0, rejected_prediction_tokens=0), prompt_tokens_details={'cached_tokens': 0, 'audio_tokens': 0}))"
      ]
     },
     "execution_count": 16,
     "metadata": {},
     "output_type": "execute_result"
    }
   ],
   "source": [
    "response"
   ]
  },
  {
   "cell_type": "code",
   "execution_count": 17,
   "metadata": {},
   "outputs": [
    {
     "data": {
      "text/plain": [
       "'연봉 5천만원인 직장인의 소득세를 계산하기 위해서는 소득세법에 따른 세율을 적용해야 하며, 기본적으로는 다음 단계로 계산합니다:\\n\\n1. **과세표준 계산**: 연봉에서 비과세 소득, 공제액(근로소득공제 등)을 차감하여 과세표준을 계산합니다.\\n\\n2. **세율 적용**: 과세표준에 대해 해당하는 구간의 세율을 적용하여 산출세액을 계산합니다. 대한민국의 경우, 과세표준 구간에 따라 차등 세율이 적용됩니다.\\n\\n3. **세액공제**: 산출세액에서 다양한 세액공제 항목(근로소득세액공제 등)을 적용하여 최종 소득세를 계산합니다.\\n\\n여기에서는 대략적인 계산을 통해 간단히 설명드리겠습니다. 실제 상황에 따라 계산이 달라질 수 있습니다.\\n\\n1. **근로소득공제**: 연봉 5천만원에 대해 근로소득공제를 적용하면, 대략 1,100만원 정도가 공제될 수 있습니다(정확한 금액은 법률에 따라 다름).\\n\\n2. **과세표준**: 5천만원 - 1,100만원 = 3,900만원\\n\\n3. **세율 적용**: 과세표준 3,900만원에 대해 2023년 기준으로 일반적인 세율을 적용하면:\\n   - 1,200만원 이하: 6%\\n   - 1,200만원 초과 4,600만원 이하: 15%\\n\\n   이 구간에 해당하는 부분에 대해 세율을 적용합니다. 산출세액을 계산하면 다음과 같습니다:\\n   - 1,200만원 x 6% = 72만원\\n   - (3,900만원 - 1,200만원) x 15% = 405만원\\n\\n   총 산출세액: 72만원 + 405만원 = 477만원\\n\\n4. **근로소득세액공제 및 기타 공제**: 기본적인 근로소득세액공제 등을 적용하면, 약 74만원 공제가 가능합니다.\\n\\n5. **최종 소득세**: 477만원 - 74만원 = 403만원\\n\\n따라서, 연봉 5천만원인 직장인의 대략적인 소득세는 약 403만원이 될 수 있습니다. 다만, 이는 기본적인 개념 설명을 위한 계산이며, 실제로는 다양한 소득공제 및 세액공제 항목이 추가적으로 적용될 수 있으므로, 정확한 금액 계산을 위해서는 세무 전문가와 상담하거나 소득세 계산기를 사용하는 것이 좋습니다.'"
      ]
     },
     "execution_count": 17,
     "metadata": {},
     "output_type": "execute_result"
    }
   ],
   "source": [
    "response.choices[0].message.content"
   ]
  },
  {
   "cell_type": "code",
   "execution_count": null,
   "metadata": {},
   "outputs": [],
   "source": []
  }
 ],
 "metadata": {
  "kernelspec": {
   "display_name": "Python 3",
   "language": "python",
   "name": "python3"
  },
  "language_info": {
   "codemirror_mode": {
    "name": "ipython",
    "version": 3
   },
   "file_extension": ".py",
   "mimetype": "text/x-python",
   "name": "python",
   "nbconvert_exporter": "python",
   "pygments_lexer": "ipython3",
   "version": "3.10.11"
  }
 },
 "nbformat": 4,
 "nbformat_minor": 2
}
